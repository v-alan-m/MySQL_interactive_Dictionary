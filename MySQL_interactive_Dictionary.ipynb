{
 "cells": [
  {
   "cell_type": "markdown",
   "metadata": {},
   "source": [
    "# MySQL"
   ]
  },
  {
   "cell_type": "markdown",
   "metadata": {},
   "source": [
    "Install MySQL connector to habe python converse with a remote MySQL database using: <br> pip3 install mysql-connector-python"
   ]
  },
  {
   "cell_type": "code",
   "execution_count": 59,
   "metadata": {},
   "outputs": [],
   "source": [
    "import mysql.connector as msc"
   ]
  },
  {
   "cell_type": "markdown",
   "metadata": {},
   "source": [
    "## Create the variable for the MySQL connection"
   ]
  },
  {
   "cell_type": "code",
   "execution_count": 111,
   "metadata": {},
   "outputs": [],
   "source": [
    "con = msc.connect(\n",
    "# Enter credentials for database access\n",
    "user = \"ardit700_student\",\n",
    "password = \"ardit700_student\",\n",
    "host = \"108.167.140.122\",\n",
    "database = \"ardit700_pm1database\"\n",
    ")"
   ]
  },
  {
   "cell_type": "markdown",
   "metadata": {},
   "source": [
    "## Create a cursor object to navigate through the database"
   ]
  },
  {
   "cell_type": "code",
   "execution_count": 112,
   "metadata": {},
   "outputs": [],
   "source": [
    "cursor = con.cursor()"
   ]
  },
  {
   "cell_type": "markdown",
   "metadata": {},
   "source": [
    "## Execute query using cursor object"
   ]
  },
  {
   "cell_type": "code",
   "execution_count": 118,
   "metadata": {},
   "outputs": [
    {
     "name": "stdout",
     "output_type": "stream",
     "text": [
      "[('line', 'Term used in GIS technologies in the vector type of internal data organization: spatial data are divided into point, line and polygon types.'), ('line', 'The descendants of one individual.'), ('line', 'A succession of notes forming a distinctive sequence.'), ('line', 'A measure of length equal to one twelfth of an inch.'), ('line', 'An infinitely long, infinitely thin, not bent line in geometry.'), ('line', 'A mark that is long relative to its width.')]\n",
      "[('line', 'Term used in GIS technologies in the vector type of internal data organization: spatial data are divided into point, line and polygon types.'), ('line', 'The descendants of one individual.'), ('line', 'A succession of notes forming a distinctive sequence.'), ('line', 'A measure of length equal to one twelfth of an inch.'), ('line', 'An infinitely long, infinitely thin, not bent line in geometry.'), ('line', 'A mark that is long relative to its width.')]\n",
      "[('line', 'Term used in GIS technologies in the vector type of internal data organization: spatial data are divided into point, line and polygon types.'), ('line', 'The descendants of one individual.'), ('line', 'A succession of notes forming a distinctive sequence.'), ('line', 'A measure of length equal to one twelfth of an inch.'), ('line', 'An infinitely long, infinitely thin, not bent line in geometry.'), ('line', 'A mark that is long relative to its width.')]\n",
      "[('line', 'Term used in GIS technologies in the vector type of internal data organization: spatial data are divided into point, line and polygon types.'), ('line', 'The descendants of one individual.'), ('line', 'A succession of notes forming a distinctive sequence.'), ('line', 'A measure of length equal to one twelfth of an inch.'), ('line', 'An infinitely long, infinitely thin, not bent line in geometry.'), ('line', 'A mark that is long relative to its width.')]\n",
      "[('line', 'Term used in GIS technologies in the vector type of internal data organization: spatial data are divided into point, line and polygon types.'), ('line', 'The descendants of one individual.'), ('line', 'A succession of notes forming a distinctive sequence.'), ('line', 'A measure of length equal to one twelfth of an inch.'), ('line', 'An infinitely long, infinitely thin, not bent line in geometry.'), ('line', 'A mark that is long relative to its width.')]\n",
      "[('line', 'Term used in GIS technologies in the vector type of internal data organization: spatial data are divided into point, line and polygon types.'), ('line', 'The descendants of one individual.'), ('line', 'A succession of notes forming a distinctive sequence.'), ('line', 'A measure of length equal to one twelfth of an inch.'), ('line', 'An infinitely long, infinitely thin, not bent line in geometry.'), ('line', 'A mark that is long relative to its width.')]\n"
     ]
    }
   ],
   "source": [
    "# Locate the data\n",
    "query = cursor.execute(\"SELECT * FROM Dictionary WHERE expression = 'Line'\")\n",
    "# Fetch the data\n",
    "results = cursor.fetchall()\n",
    "# If results are present (in case the search has no results)\n",
    "if results:\n",
    "# Print the defintions. Multiple definitions have been found in the form of tuples:\n",
    "    for result in results:\n",
    "        print(results)\n",
    "# Message to user in case no words are found\n",
    "else:\n",
    "    print (\"Word can not be found. Please enter in another word\")"
   ]
  },
  {
   "cell_type": "markdown",
   "metadata": {},
   "source": [
    "## Trigger the else condition"
   ]
  },
  {
   "cell_type": "code",
   "execution_count": 119,
   "metadata": {},
   "outputs": [
    {
     "name": "stdout",
     "output_type": "stream",
     "text": [
      "Word can not be found. Please enter in another word\n"
     ]
    }
   ],
   "source": [
    "# Enter in a random word, that is not in the database\n",
    "query = cursor.execute(\"SELECT * FROM Dictionary WHERE expression = 'ssefsefsefs'\")\n",
    "results = cursor.fetchall()\n",
    "\n",
    "if results:\n",
    "    for result in results:\n",
    "        print(results)\n",
    "else:\n",
    "    print (\"Word can not be found. Please enter in another word\")"
   ]
  },
  {
   "cell_type": "markdown",
   "metadata": {},
   "source": [
    "## Request a search word as input from the user, for stdin"
   ]
  },
  {
   "cell_type": "code",
   "execution_count": 125,
   "metadata": {},
   "outputs": [
    {
     "name": "stdout",
     "output_type": "stream",
     "text": [
      "Enter a word: speed\n",
      "[('speed', 'A scalar measure of the rate of movement of a body expressed either as the distance travelled divided by the time taken (average speed) or the rate of change of position with respect to time at a particular point (instantaneous speed). It is measured in metres per second, miles per hour, etc.'), ('speed', 'To move faster.'), ('speed', 'An addictive psychoactive drug of formula C₁₀H₁₅N.'), ('speed', 'To cause to move faster.'), ('speed', 'To move fast.')]\n",
      "[('speed', 'A scalar measure of the rate of movement of a body expressed either as the distance travelled divided by the time taken (average speed) or the rate of change of position with respect to time at a particular point (instantaneous speed). It is measured in metres per second, miles per hour, etc.'), ('speed', 'To move faster.'), ('speed', 'An addictive psychoactive drug of formula C₁₀H₁₅N.'), ('speed', 'To cause to move faster.'), ('speed', 'To move fast.')]\n",
      "[('speed', 'A scalar measure of the rate of movement of a body expressed either as the distance travelled divided by the time taken (average speed) or the rate of change of position with respect to time at a particular point (instantaneous speed). It is measured in metres per second, miles per hour, etc.'), ('speed', 'To move faster.'), ('speed', 'An addictive psychoactive drug of formula C₁₀H₁₅N.'), ('speed', 'To cause to move faster.'), ('speed', 'To move fast.')]\n",
      "[('speed', 'A scalar measure of the rate of movement of a body expressed either as the distance travelled divided by the time taken (average speed) or the rate of change of position with respect to time at a particular point (instantaneous speed). It is measured in metres per second, miles per hour, etc.'), ('speed', 'To move faster.'), ('speed', 'An addictive psychoactive drug of formula C₁₀H₁₅N.'), ('speed', 'To cause to move faster.'), ('speed', 'To move fast.')]\n",
      "[('speed', 'A scalar measure of the rate of movement of a body expressed either as the distance travelled divided by the time taken (average speed) or the rate of change of position with respect to time at a particular point (instantaneous speed). It is measured in metres per second, miles per hour, etc.'), ('speed', 'To move faster.'), ('speed', 'An addictive psychoactive drug of formula C₁₀H₁₅N.'), ('speed', 'To cause to move faster.'), ('speed', 'To move fast.')]\n"
     ]
    }
   ],
   "source": [
    "import mysql.connector as msc\n",
    "\n",
    "con = msc.connect(\n",
    "# Enter credentials for database access\n",
    "user = \"ardit700_student\",\n",
    "password = \"ardit700_student\",\n",
    "host = \"108.167.140.122\",\n",
    "database = \"ardit700_pm1database\"\n",
    ")\n",
    "\n",
    "# Create a cursor object to navigate through the database\n",
    "cursor = con.cursor()\n",
    "\n",
    "# Request a word from the user\n",
    "word = input(\"Enter a word: \")\n",
    "\n",
    "# Locate the data and define the format and value of the search word, from stdin\n",
    "query = cursor.execute(\"SELECT * FROM Dictionary WHERE expression = '%s'\" % word)\n",
    "# Fetch the data\n",
    "results = cursor.fetchall()\n",
    "# If results are present (in case the search has no results)\n",
    "if results:\n",
    "# Print the defintions. Multiple definitions have been found in the form of tuples:\n",
    "    for result in results:\n",
    "        print(results)\n",
    "# Message to user in case no words are found\n",
    "else:\n",
    "    print (\"Word can not be found. Please enter in another word\")"
   ]
  },
  {
   "cell_type": "code",
   "execution_count": null,
   "metadata": {},
   "outputs": [],
   "source": []
  }
 ],
 "metadata": {
  "kernelspec": {
   "display_name": "Python 3",
   "language": "python",
   "name": "python3"
  },
  "language_info": {
   "codemirror_mode": {
    "name": "ipython",
    "version": 3
   },
   "file_extension": ".py",
   "mimetype": "text/x-python",
   "name": "python",
   "nbconvert_exporter": "python",
   "pygments_lexer": "ipython3",
   "version": "3.7.4"
  }
 },
 "nbformat": 4,
 "nbformat_minor": 2
}
